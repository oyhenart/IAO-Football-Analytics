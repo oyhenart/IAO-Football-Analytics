{
  "nbformat": 4,
  "nbformat_minor": 0,
  "metadata": {
    "colab": {
      "provenance": [],
      "mount_file_id": "1bpP_OAvz1ilw85snHEPOmIp_hAKRJaDU",
      "authorship_tag": "ABX9TyPNT7uPa1wNYoOiub1XEAKi",
      "include_colab_link": true
    },
    "kernelspec": {
      "name": "python3",
      "display_name": "Python 3"
    },
    "language_info": {
      "name": "python"
    }
  },
  "cells": [
    {
      "cell_type": "markdown",
      "metadata": {
        "id": "view-in-github",
        "colab_type": "text"
      },
      "source": [
        "<a href=\"https://colab.research.google.com/github/oyhenart/IAO-Football-Analytics/blob/main/notebooks/scatter_plot_efectividad_defensiva.ipynb\" target=\"_parent\"><img src=\"https://colab.research.google.com/assets/colab-badge.svg\" alt=\"Open In Colab\"/></a>"
      ]
    },
    {
      "cell_type": "code",
      "source": [
        "!pip install matplotlib\n",
        "!pip install mplsoccer\n",
        "!pip install pillow"
      ],
      "metadata": {
        "id": "jeiYiMontZn1"
      },
      "execution_count": null,
      "outputs": []
    },
    {
      "cell_type": "code",
      "execution_count": null,
      "metadata": {
        "id": "-df2XAEopFoJ"
      },
      "outputs": [],
      "source": [
        "import pandas as pd\n",
        "from matplotlib.offsetbox import (OffsetImage, AnnotationBbox)\n",
        "import matplotlib.pyplot as plt\n",
        "import matplotlib.font_manager as fm\n",
        "from mplsoccer import add_image\n",
        "from PIL import Image"
      ]
    },
    {
      "cell_type": "code",
      "source": [
        "pagina_entera = pd.read_html('https://fbref.com/en/comps/21/Liga-Profesional-Argentina-Stats#all_stats_squads_keeper')"
      ],
      "metadata": {
        "id": "DmAxjanyuhZp"
      },
      "execution_count": null,
      "outputs": []
    },
    {
      "cell_type": "code",
      "source": [
        "df = pagina_entera[9]"
      ],
      "metadata": {
        "id": "fXvDYOYqvrCD"
      },
      "execution_count": null,
      "outputs": []
    },
    {
      "cell_type": "code",
      "source": [
        "df.columns"
      ],
      "metadata": {
        "id": "Wa65xA5FwJAJ"
      },
      "execution_count": null,
      "outputs": []
    },
    {
      "cell_type": "code",
      "source": [
        "df.columns = df.columns.droplevel(0)"
      ],
      "metadata": {
        "id": "zZ5bNGYTwb6N"
      },
      "execution_count": null,
      "outputs": []
    },
    {
      "cell_type": "code",
      "source": [
        "df"
      ],
      "metadata": {
        "id": "7HUqAEiT1zru"
      },
      "execution_count": null,
      "outputs": []
    },
    {
      "cell_type": "code",
      "source": [
        "df_plot = df[['Squad','MP', 'GA90', 'SoTA']]\n",
        "df_plot.Squad= df_plot.Squad.replace({\n",
        "    'Aldosivi': 'aldosivi',\n",
        "    'Arg Juniors': 'argentinos',\n",
        "    'Atlé Tucumán': 'tucuman',\n",
        "    'Banfield': 'banfield',\n",
        "    'Barracas Central': 'barracas',\n",
        "    'Belgrano': 'belgrano',\n",
        "    'Boca Juniors': 'boca',\n",
        "    'Cen. Córdoba–SdE': 'cordoba',\n",
        "    'Defensa y Just': 'defensa',\n",
        "    'Deportivo Riestra': 'riestra',\n",
        "    'Estudiantes–LP': 'estudiantes',\n",
        "    'Gimnasia–LP': 'gimnasia',\n",
        "    'Godoy Cruz': 'godoycruz',\n",
        "    'Huracán': 'huracan',\n",
        "    'Ind. Rivadavia': 'independienteriv',\n",
        "    'Independiente': 'independiente',\n",
        "    'Instituto': 'instituto',\n",
        "    'Lanús': 'lanus',\n",
        "    \"Newell's OB\": 'newells',\n",
        "    'Platense': 'plantense',\n",
        "    'Racing Club': 'racing2',\n",
        "    'River Plate': 'river',\n",
        "    'Rosario Central': 'rosariocentral',\n",
        "    'San Lorenzo': 'sanlorenzo',\n",
        "    'San Martín de San Juan': 'sanmartinsj',\n",
        "    'Sarmiento': 'sarmiento',\n",
        "    'Talleres': 'talleres',\n",
        "    'Tigre': 'tigre',\n",
        "    'Unión': 'union',\n",
        "    'Vélez Sarsfield': 'velez'\n",
        "}).sort_values()\n",
        "df_plot['SoTA90'] = df_plot['SoTA'] / df_plot['MP']\n",
        "df_plot"
      ],
      "metadata": {
        "id": "ZEWNZXOQ2Jms"
      },
      "execution_count": null,
      "outputs": []
    },
    {
      "cell_type": "code",
      "source": [
        "x = df_plot['GA90']\n",
        "#y = df_plot['SoTA'] / df_plot['MP']\n",
        "y = df_plot['SoTA90']\n",
        "\n",
        "promx = x.mean()\n",
        "promy = y.mean()\n",
        "\n",
        "color_plot = 'white'\n",
        "facecolor = '#292323'\n",
        "\n",
        "fig, ax = plt.subplots(figsize=(16, 9))\n",
        "ax.scatter(x, y)\n",
        "\n",
        "ax.axhline(promy, color=color_plot)\n",
        "ax.axvline(promx, color=color_plot)\n",
        "\n",
        "\n",
        "#setea distinto las lineas de borde\n",
        "ax.spines['top'].set_visible(False)\n",
        "ax.spines['right'].set_visible(False)\n",
        "ax.spines['bottom'].set_color(color_plot)\n",
        "ax.spines['left'].set_color(color_plot)\n",
        "\n",
        "#setear colores de fondo\n",
        "fig.patch.set_facecolor(facecolor)\n",
        "ax.set_facecolor(facecolor)\n",
        "\n",
        "for axis in ['top','right','left','bottom']:\n",
        "    ax.spines[axis].set_linewidth(1.5)\n",
        "ax.tick_params(axis='y', pad= 12, colors=color_plot, labelsize=12)\n",
        "ax.tick_params(axis='x', pad= 12, colors=color_plot, labelsize=12)\n",
        "\n",
        "nombre_at1 = 'Goles Concedidos'\n",
        "nombre_at2 = 'Tiros al arco concedidos'\n",
        "\n",
        "ax.set_xlabel(nombre_at1, color=color_plot, fontsize=16)\n",
        "ax.set_ylabel(nombre_at2, color=color_plot, fontsize=16)\n",
        "\n",
        "ax.set_title(f'{nombre_at1} vs. {nombre_at2} - Liga Profesional Argentina', color=color_plot, fontsize=20)\n",
        "\n",
        "def getImage(path, zoom=0.1):\n",
        "    return OffsetImage(plt.imread(path), zoom=zoom)\n",
        "from google.colab import files\n",
        "files = sorted(os.listdir('/content/drive/MyDrive/primeradivision'))\n",
        "\n",
        "for x0, y0, file in zip(x, y, files):\n",
        "  ab = AnnotationBbox(getImage(f'/content/drive/MyDrive/primeradivision/{file}'), (x0, y0), frameon=False)\n",
        "  ax.add_artist(ab)\n",
        "\n",
        "plt.savefig('ligaprofesional.png', dpi=300, bbox_inches='tight')"
      ],
      "metadata": {
        "id": "VyE9l2Ib2zeq"
      },
      "execution_count": null,
      "outputs": []
    },
    {
      "cell_type": "code",
      "source": [
        "df_plot"
      ],
      "metadata": {
        "id": "d-I468Tiqcgy"
      },
      "execution_count": null,
      "outputs": []
    }
  ]
}