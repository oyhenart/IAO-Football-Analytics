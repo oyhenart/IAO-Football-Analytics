{
  "nbformat": 4,
  "nbformat_minor": 0,
  "metadata": {
    "colab": {
      "provenance": [],
      "authorship_tag": "ABX9TyOL3+MqNx2doVX5MQbjhCzh",
      "include_colab_link": true
    },
    "kernelspec": {
      "name": "python3",
      "display_name": "Python 3"
    },
    "language_info": {
      "name": "python"
    }
  },
  "cells": [
    {
      "cell_type": "markdown",
      "metadata": {
        "id": "view-in-github",
        "colab_type": "text"
      },
      "source": [
        "<a href=\"https://colab.research.google.com/github/oyhenart/IAO-Football-Analytics/blob/main/notebooks/Mapa_de_calor.ipynb\" target=\"_parent\"><img src=\"https://colab.research.google.com/assets/colab-badge.svg\" alt=\"Open In Colab\"/></a>"
      ]
    },
    {
      "cell_type": "markdown",
      "source": [
        "# 1️⃣ Preparación del entorno\n"
      ],
      "metadata": {
        "id": "HMvMUdyVzO89"
      }
    },
    {
      "cell_type": "code",
      "execution_count": null,
      "metadata": {
        "id": "IkPmT1PthA0s"
      },
      "outputs": [],
      "source": [
        "# Importamos las librerías necesarias\n",
        "!pip install mplsoccer\n",
        "!pip install statsbombpy\n",
        "!pip install matplotlib"
      ]
    },
    {
      "cell_type": "code",
      "source": [
        "import pandas as pd                         # Para manipular datos tabulares\n",
        "from mplsoccer import VerticalPitch, Pitch  # Para graficar\n",
        "from statsbombpy import sb                  # Para cargar los datos gratuitos\n",
        "import matplotlib.pyplot as plt             # Para generar mapas de calor con buena estética"
      ],
      "metadata": {
        "id": "skVoU9gghRAZ"
      },
      "execution_count": null,
      "outputs": []
    },
    {
      "cell_type": "markdown",
      "source": [
        "# 2️⃣ Carga de datos\n"
      ],
      "metadata": {
        "id": "p32OYJ-f0F_n"
      }
    },
    {
      "cell_type": "code",
      "source": [
        "# Cargamos el data set de Statsbomb que contiene las coordenadas de los eventos del partido\n",
        "pd.set_option('display.max_rows', None)\n",
        "competitions_df = sb.competitions()\n",
        "sorted_competitions_df = competitions_df.sort_values(by='season_name')\n",
        "display(sorted_competitions_df)"
      ],
      "metadata": {
        "id": "eQn0bDZ_hpJM"
      },
      "execution_count": null,
      "outputs": []
    },
    {
      "cell_type": "code",
      "source": [
        "partido = sb.events(match_id=3869685)\n",
        "partido.head()"
      ],
      "metadata": {
        "id": "Kp--X2c7piLi"
      },
      "execution_count": null,
      "outputs": []
    },
    {
      "cell_type": "code",
      "source": [
        "# Revisamos cuántos registros quedaron tras el filtro\n",
        "partido.player.value_counts()"
      ],
      "metadata": {
        "id": "o6LqwSa9p5_9"
      },
      "execution_count": null,
      "outputs": []
    },
    {
      "cell_type": "markdown",
      "source": [
        "# 3️⃣ Filtrado de eventos\n",
        "\n",
        "\n"
      ],
      "metadata": {
        "id": "AwOViB1M1GwD"
      }
    },
    {
      "cell_type": "code",
      "source": [
        "# Filtramos solo los eventos que nos interesan para el mapa de calor\n",
        "df_enzo = partido[partido['player'] == 'Enzo Fernandez']\n",
        "# Revisamos cuántos registros quedaron tras el filtro\n",
        "df_enzo.shape"
      ],
      "metadata": {
        "id": "WeUp7emCqF8D"
      },
      "execution_count": null,
      "outputs": []
    },
    {
      "cell_type": "code",
      "source": [
        "df_enzo[['x', 'y']] = df_enzo.location.apply(pd.Series)\n",
        "df_enzo[['x', 'y', 'location']]"
      ],
      "metadata": {
        "id": "_qicjgGYqdDb"
      },
      "execution_count": null,
      "outputs": []
    },
    {
      "cell_type": "code",
      "source": [
        "df_rodri = partido[partido['player'] == 'Rodrigo Javier De Paul']\n",
        "df_rodri.shape"
      ],
      "metadata": {
        "id": "Lkw5cFnjwlNM"
      },
      "execution_count": null,
      "outputs": []
    },
    {
      "cell_type": "code",
      "source": [
        "df_rodri[['x', 'y']] = df_rodri.location.apply(pd.Series)\n",
        "df_rodri[['x', 'y', 'location']]"
      ],
      "metadata": {
        "id": "Sq2k5SUZxM0x"
      },
      "execution_count": null,
      "outputs": []
    },
    {
      "cell_type": "code",
      "source": [
        "df_messi = partido[partido['player'] == 'Lionel Andrés Messi Cuccittini']\n",
        "df_messi.shape"
      ],
      "metadata": {
        "id": "IhG5h7KEwugK"
      },
      "execution_count": null,
      "outputs": []
    },
    {
      "cell_type": "code",
      "source": [
        "df_messi[['x', 'y']] = df_messi.location.apply(pd.Series)\n",
        "df_messi[['x', 'y', 'location']]"
      ],
      "metadata": {
        "id": "uwexyDOnxWtg"
      },
      "execution_count": null,
      "outputs": []
    },
    {
      "cell_type": "code",
      "source": [
        "df_messi[['end_x', 'end_y']] = df_messi.pass_end_location.apply(pd.Series)\n",
        "df_messi[['end_x', 'end_y', 'location']]"
      ],
      "metadata": {
        "id": "g7HOEvv9yGEX"
      },
      "execution_count": null,
      "outputs": []
    },
    {
      "cell_type": "markdown",
      "source": [
        "# 4️⃣ Creación del campo de fútbol\n",
        "\n"
      ],
      "metadata": {
        "id": "slGjKgWD2BN2"
      }
    },
    {
      "cell_type": "markdown",
      "source": [
        "## 5️⃣ Mapa de calor\n",
        "\n"
      ],
      "metadata": {
        "id": "rP8XMyMq2gb3"
      }
    },
    {
      "cell_type": "code",
      "source": [
        "fig, ax = plt.subplots(figsize=(16, 9))                                         # Configuramos la figura y los ejes\n",
        "pitch = Pitch(pitch_type='statsbomb', line_color='white', pitch_color='black')  # Creamos el objeto 'Pitch' con el tamaño estándar de StatsBomb (120x80)\n",
        "pitch.draw(ax=ax)\n",
        "\n",
        "# Esto nos permite visualizar en qué zonas del campo se concentran más los pases\n",
        "\n",
        "pitch.kdeplot(                                                                  # Usamos 'kdeplot' para crear una estimación de densidad (Kernel Density Estimation)\n",
        "    df_enzo['x'],\n",
        "    df_enzo['y'],\n",
        "    shade=True,\n",
        "    shade_lowest=True,\n",
        "    cmap='hot',\n",
        "    ax=ax,\n",
        "    levels=100,\n",
        "    zorder= -1\n",
        ")"
      ],
      "metadata": {
        "id": "cRrFT-aGrRo7"
      },
      "execution_count": null,
      "outputs": []
    },
    {
      "cell_type": "code",
      "source": [
        "fig, ax = plt.subplots(figsize=(16, 9))\n",
        "pitch = Pitch(pitch_type='statsbomb', line_color='white', pitch_color='black')\n",
        "pitch.draw(ax=ax)\n",
        "\n",
        "pitch.kdeplot(\n",
        "    df_rodri['x'],\n",
        "    df_rodri['y'],\n",
        "    shade=True,\n",
        "    shade_lowest=True,\n",
        "    cmap='hot',\n",
        "    ax=ax,\n",
        "    levels=100,\n",
        "    zorder= -1\n",
        ")"
      ],
      "metadata": {
        "id": "TXHmQVmGxG3q"
      },
      "execution_count": null,
      "outputs": []
    },
    {
      "cell_type": "code",
      "source": [
        "fig, ax = plt.subplots(figsize=(16, 9))\n",
        "pitch = Pitch(pitch_type='statsbomb', line_color='white', pitch_color='black')\n",
        "pitch.draw(ax=ax)\n",
        "\n",
        "pitch.kdeplot(\n",
        "    df_messi['x'],\n",
        "    df_messi['y'],\n",
        "    shade=True,\n",
        "    shade_lowest=True,\n",
        "    cmap='hot',\n",
        "    ax=ax,\n",
        "    levels=100,\n",
        "    zorder= -1\n",
        ")"
      ],
      "metadata": {
        "id": "hLzWTHKlxfVh"
      },
      "execution_count": null,
      "outputs": []
    },
    {
      "cell_type": "code",
      "source": [
        "fig, ax = plt.subplots(figsize=(16, 9))\n",
        "pitch = Pitch(pitch_type='statsbomb', line_color='white', pitch_color='black')\n",
        "pitch.draw(ax=ax)\n",
        "\n",
        "pitch.kdeplot(\n",
        "    df_messi['end_x'],\n",
        "    df_messi['end_y'],\n",
        "    shade=True,\n",
        "    shade_lowest=True,\n",
        "    cmap='hot',\n",
        "    ax=ax,\n",
        "    levels=100,\n",
        "    zorder= -1\n",
        ")"
      ],
      "metadata": {
        "id": "tjQAXHtYyS0m"
      },
      "execution_count": null,
      "outputs": []
    },
    {
      "cell_type": "markdown",
      "source": [
        "# 6️⃣ Conclusiones\n",
        "\n",
        "- 🔥 El mapa de calor muestra las zonas de mayor actividad del equipo durante el partido.  \n",
        "- 🎯 Permite detectar patrones de posesión y sectores donde se concentra el juego.  \n",
        "- 🧩 Ideal para identificar si el equipo prefiere construir por izquierda, derecha o por el centro.  \n",
        "- ⚙️ Próximo paso: combinar este mapa con la posición media de los jugadores o el resultado de las jugadas.  "
      ],
      "metadata": {
        "id": "ns21npo33u1w"
      }
    }
  ]
}