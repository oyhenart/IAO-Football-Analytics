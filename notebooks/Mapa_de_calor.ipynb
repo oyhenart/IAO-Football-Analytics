{
  "nbformat": 4,
  "nbformat_minor": 0,
  "metadata": {
    "colab": {
      "provenance": [],
      "authorship_tag": "ABX9TyNy38mA9qGXlSqymJvYgtkK",
      "include_colab_link": true
    },
    "kernelspec": {
      "name": "python3",
      "display_name": "Python 3"
    },
    "language_info": {
      "name": "python"
    }
  },
  "cells": [
    {
      "cell_type": "markdown",
      "metadata": {
        "id": "view-in-github",
        "colab_type": "text"
      },
      "source": [
        "<a href=\"https://colab.research.google.com/github/oyhenart/IAO-Football-Analytics/blob/main/notebooks/Mapa_de_calor.ipynb\" target=\"_parent\"><img src=\"https://colab.research.google.com/assets/colab-badge.svg\" alt=\"Open In Colab\"/></a>"
      ]
    },
    {
      "cell_type": "code",
      "execution_count": null,
      "metadata": {
        "id": "IkPmT1PthA0s"
      },
      "outputs": [],
      "source": [
        "!pip install mplsoccer\n",
        "!pip install statsbombpy\n",
        "!pip install matplotlib"
      ]
    },
    {
      "cell_type": "code",
      "source": [
        "import pandas as pd\n",
        "from mplsoccer import VerticalPitch, Pitch\n",
        "from statsbombpy import sb\n",
        "import matplotlib.pyplot as plt"
      ],
      "metadata": {
        "id": "skVoU9gghRAZ"
      },
      "execution_count": null,
      "outputs": []
    },
    {
      "cell_type": "code",
      "source": [
        "import pandas as pd\n",
        "pd.set_option('display.max_rows', None)\n",
        "competitions_df = sb.competitions()\n",
        "sorted_competitions_df = competitions_df.sort_values(by='season_name')\n",
        "display(sorted_competitions_df)"
      ],
      "metadata": {
        "id": "eQn0bDZ_hpJM"
      },
      "execution_count": null,
      "outputs": []
    },
    {
      "cell_type": "code",
      "source": [
        "partido = sb.events(match_id=3869685)\n",
        "partido.head()"
      ],
      "metadata": {
        "id": "Kp--X2c7piLi"
      },
      "execution_count": null,
      "outputs": []
    },
    {
      "cell_type": "code",
      "source": [
        "partido.player.value_counts()"
      ],
      "metadata": {
        "id": "o6LqwSa9p5_9"
      },
      "execution_count": null,
      "outputs": []
    },
    {
      "cell_type": "code",
      "source": [
        "df_enzo = partido[partido['player'] == 'Enzo Fernandez']\n",
        "df_enzo.shape"
      ],
      "metadata": {
        "id": "WeUp7emCqF8D"
      },
      "execution_count": null,
      "outputs": []
    },
    {
      "cell_type": "code",
      "source": [
        "df_enzo[['x', 'y']] = df_enzo.location.apply(pd.Series)\n",
        "df_enzo[['x', 'y', 'location']]"
      ],
      "metadata": {
        "id": "_qicjgGYqdDb"
      },
      "execution_count": null,
      "outputs": []
    },
    {
      "cell_type": "code",
      "source": [
        "fig, ax = plt.subplots(figsize=(16, 9))\n",
        "pitch = Pitch(pitch_type='statsbomb', line_color='white', pitch_color='black')\n",
        "pitch.draw(ax=ax)\n",
        "\n",
        "pitch.kdeplot(\n",
        "    df_enzo['x'],\n",
        "    df_enzo['y'],\n",
        "    shade=True,\n",
        "    shade_lowest=True,\n",
        "    cmap='hot',\n",
        "    ax=ax,\n",
        "    levels=100,\n",
        "    zorder= -1\n",
        ")"
      ],
      "metadata": {
        "id": "cRrFT-aGrRo7"
      },
      "execution_count": null,
      "outputs": []
    },
    {
      "cell_type": "code",
      "source": [
        "df_rodri = partido[partido['player'] == 'Rodrigo Javier De Paul']\n",
        "df_rodri.shape"
      ],
      "metadata": {
        "id": "Lkw5cFnjwlNM"
      },
      "execution_count": null,
      "outputs": []
    },
    {
      "cell_type": "code",
      "source": [
        "df_rodri[['x', 'y']] = df_rodri.location.apply(pd.Series)\n",
        "df_rodri[['x', 'y', 'location']]"
      ],
      "metadata": {
        "id": "Sq2k5SUZxM0x"
      },
      "execution_count": null,
      "outputs": []
    },
    {
      "cell_type": "code",
      "source": [
        "fig, ax = plt.subplots(figsize=(16, 9))\n",
        "pitch = Pitch(pitch_type='statsbomb', line_color='white', pitch_color='black')\n",
        "pitch.draw(ax=ax)\n",
        "\n",
        "pitch.kdeplot(\n",
        "    df_rodri['x'],\n",
        "    df_rodri['y'],\n",
        "    shade=True,\n",
        "    shade_lowest=True,\n",
        "    cmap='hot',\n",
        "    ax=ax,\n",
        "    levels=100,\n",
        "    zorder= -1\n",
        ")"
      ],
      "metadata": {
        "id": "TXHmQVmGxG3q"
      },
      "execution_count": null,
      "outputs": []
    },
    {
      "cell_type": "code",
      "source": [
        "df_messi = partido[partido['player'] == 'Lionel Andrés Messi Cuccittini']\n",
        "df_messi.shape"
      ],
      "metadata": {
        "id": "IhG5h7KEwugK"
      },
      "execution_count": null,
      "outputs": []
    },
    {
      "cell_type": "code",
      "source": [
        "df_messi[['x', 'y']] = df_messi.location.apply(pd.Series)\n",
        "df_messi[['x', 'y', 'location']]"
      ],
      "metadata": {
        "id": "uwexyDOnxWtg"
      },
      "execution_count": null,
      "outputs": []
    },
    {
      "cell_type": "code",
      "source": [
        "fig, ax = plt.subplots(figsize=(16, 9))\n",
        "pitch = Pitch(pitch_type='statsbomb', line_color='white', pitch_color='black')\n",
        "pitch.draw(ax=ax)\n",
        "\n",
        "pitch.kdeplot(\n",
        "    df_messi['x'],\n",
        "    df_messi['y'],\n",
        "    shade=True,\n",
        "    shade_lowest=True,\n",
        "    cmap='hot',\n",
        "    ax=ax,\n",
        "    levels=100,\n",
        "    zorder= -1\n",
        ")"
      ],
      "metadata": {
        "id": "hLzWTHKlxfVh"
      },
      "execution_count": null,
      "outputs": []
    },
    {
      "cell_type": "code",
      "source": [
        "df_messi[['end_x', 'end_y']] = df_messi.pass_end_location.apply(pd.Series)\n",
        "df_messi[['end_x', 'end_y', 'location']]"
      ],
      "metadata": {
        "id": "g7HOEvv9yGEX"
      },
      "execution_count": null,
      "outputs": []
    },
    {
      "cell_type": "code",
      "source": [
        "fig, ax = plt.subplots(figsize=(16, 9))\n",
        "pitch = Pitch(pitch_type='statsbomb', line_color='white', pitch_color='black')\n",
        "pitch.draw(ax=ax)\n",
        "\n",
        "pitch.kdeplot(\n",
        "    df_messi['end_x'],\n",
        "    df_messi['end_y'],\n",
        "    shade=True,\n",
        "    shade_lowest=True,\n",
        "    cmap='hot',\n",
        "    ax=ax,\n",
        "    levels=100,\n",
        "    zorder= -1\n",
        ")"
      ],
      "metadata": {
        "id": "tjQAXHtYyS0m"
      },
      "execution_count": null,
      "outputs": []
    }
  ]
}