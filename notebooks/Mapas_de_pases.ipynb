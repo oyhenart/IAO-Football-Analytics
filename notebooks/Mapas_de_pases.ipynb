{
  "nbformat": 4,
  "nbformat_minor": 0,
  "metadata": {
    "colab": {
      "provenance": [],
      "authorship_tag": "ABX9TyM0UngNPHKQ2n04XrURehuN",
      "include_colab_link": true
    },
    "kernelspec": {
      "name": "python3",
      "display_name": "Python 3"
    },
    "language_info": {
      "name": "python"
    }
  },
  "cells": [
    {
      "cell_type": "markdown",
      "metadata": {
        "id": "view-in-github",
        "colab_type": "text"
      },
      "source": [
        "<a href=\"https://colab.research.google.com/github/oyhenart/IAO-Football-Analytics/blob/main/notebooks/Mapas_de_pases.ipynb\" target=\"_parent\"><img src=\"https://colab.research.google.com/assets/colab-badge.svg\" alt=\"Open In Colab\"/></a>"
      ]
    },
    {
      "cell_type": "markdown",
      "source": [
        "# 1️⃣ Preparación de datos\n"
      ],
      "metadata": {
        "id": "Hwuz2dhrmSZT"
      }
    },
    {
      "cell_type": "markdown",
      "source": [
        "## 1.1 Instalar e Importar librerías\n"
      ],
      "metadata": {
        "id": "ajy46yL-mWTW"
      }
    },
    {
      "cell_type": "code",
      "execution_count": null,
      "metadata": {
        "id": "BwmRk5K2bypv"
      },
      "outputs": [],
      "source": [
        "# Instalar las librerias\n",
        "!pip install matplotlib\n",
        "!pip install urllib\n",
        "!pip install mplsoccer\n",
        "!pip install PIL\n",
        "!pip install statsbombpy"
      ]
    },
    {
      "cell_type": "code",
      "source": [
        "#Importar lo necesario\n",
        "import numpy as np\n",
        "import pandas as pd\n",
        "import matplotlib.pyplot as plt\n",
        "from matplotlib.colors import to_rgba\n",
        "from mplsoccer import Pitch, FontManager, VerticalPitch, add_image\n",
        "from urllib.request import urlopen\n",
        "from PIL import Image\n",
        "from statsbombpy import sb"
      ],
      "metadata": {
        "id": "4-8UpPkPc1sS"
      },
      "execution_count": null,
      "outputs": []
    },
    {
      "cell_type": "markdown",
      "source": [
        "## 1.2 Limpiar datos\n",
        "- Filtrar columnas necesarias\n",
        "- Revisar valores nulos o inconsistentes"
      ],
      "metadata": {
        "id": "lqZUaqkwtGOP"
      }
    },
    {
      "cell_type": "code",
      "source": [
        "partido = sb.events(match_id=3869685)"
      ],
      "metadata": {
        "id": "ioZynngVf0AG"
      },
      "execution_count": null,
      "outputs": []
    },
    {
      "cell_type": "code",
      "source": [
        "partido.columns"
      ],
      "metadata": {
        "id": "Y5KcHLnvf_Bm"
      },
      "execution_count": null,
      "outputs": []
    },
    {
      "cell_type": "markdown",
      "source": [],
      "metadata": {
        "id": "V8k8akFhtilM"
      }
    },
    {
      "cell_type": "code",
      "source": [
        "partido[['x','y']] = partido['location'].apply(pd.Series)\n",
        "partido[['end_x','end_y']] = partido['pass_end_location'].apply(pd.Series)"
      ],
      "metadata": {
        "id": "Yc0YLqRbJL26"
      },
      "execution_count": null,
      "outputs": []
    },
    {
      "cell_type": "code",
      "source": [
        "partido.pass_outcome.value_counts()\n",
        "pases_partido = partido[(partido['type'] == 'Pass') & (partido['team'] == 'Argentina')]\n",
        "pases_partido.shape"
      ],
      "metadata": {
        "id": "XRAu2ckigdpS"
      },
      "execution_count": null,
      "outputs": []
    },
    {
      "cell_type": "code",
      "source": [
        "pases_partido.pass_outcome.value_counts()\n",
        "completados = pases_partido[pases_partido['pass_outcome'].isna() == True]"
      ],
      "metadata": {
        "id": "KEXcYYyNHfoJ"
      },
      "execution_count": null,
      "outputs": []
    },
    {
      "cell_type": "markdown",
      "source": [
        "## 1.3 Exploración inicial\n",
        "- Estadísticas básicas\n",
        "- Conteo de pases por jugador"
      ],
      "metadata": {
        "id": "k2OeA0W9t3XJ"
      }
    },
    {
      "cell_type": "code",
      "source": [
        "completados[['player', 'location', 'pass_end_location']]"
      ],
      "metadata": {
        "id": "SNTikCOCH9hI"
      },
      "execution_count": null,
      "outputs": []
    },
    {
      "cell_type": "code",
      "source": [
        "completados[['player','x','y','end_x','end_y']]"
      ],
      "metadata": {
        "id": "qwJhbVjkIUdl"
      },
      "execution_count": null,
      "outputs": []
    },
    {
      "cell_type": "code",
      "source": [
        "completados.groupby('player')[['x','y']].mean()"
      ],
      "metadata": {
        "id": "g5h0UMyoKUwW"
      },
      "execution_count": null,
      "outputs": []
    },
    {
      "cell_type": "code",
      "source": [
        "completados['pasador'] = completados['player']\n",
        "completados['receptor'] = completados['player'].shift(-1)"
      ],
      "metadata": {
        "id": "TzLGfolULE9-"
      },
      "execution_count": null,
      "outputs": []
    },
    {
      "cell_type": "code",
      "source": [
        "completados[['pasador','receptor']]"
      ],
      "metadata": {
        "id": "XJnFc2v1N1Zw"
      },
      "execution_count": null,
      "outputs": []
    },
    {
      "cell_type": "code",
      "source": [
        "firstSub = partido[(partido['type'] == 'Substitution') & (partido['team'] == 'Argentina')].minute.min()\n",
        "firstSub"
      ],
      "metadata": {
        "id": "bJ-qxcwTT3Y-"
      },
      "execution_count": null,
      "outputs": []
    },
    {
      "cell_type": "code",
      "source": [
        "completados= completados[completados['minute']< firstSub]"
      ],
      "metadata": {
        "id": "an9DlpBbhlcf"
      },
      "execution_count": null,
      "outputs": []
    },
    {
      "cell_type": "code",
      "source": [
        "average_locations = completados.groupby('player').agg({'x': ['mean'], 'y': ['mean', 'count']})\n",
        "average_locations.columns = ['x', 'y', 'count']\n",
        "average_locations"
      ],
      "metadata": {
        "id": "Q1L4pyxyUYaZ"
      },
      "execution_count": null,
      "outputs": []
    },
    {
      "cell_type": "code",
      "source": [
        "pass_between = completados.groupby(['pasador', 'receptor']).id.count().reset_index()\n",
        "pass_between.rename({'id': 'pass_count'}, axis= 'columns', inplace=True)"
      ],
      "metadata": {
        "id": "g8WlJElOZowx"
      },
      "execution_count": null,
      "outputs": []
    },
    {
      "cell_type": "code",
      "source": [
        "pass_between = pass_between.merge(average_locations, left_on='pasador', right_index= True)\n",
        "pass_between = pass_between.merge(average_locations, left_on='receptor', right_index= True, suffixes=['','_end'])\n",
        "pass_between"
      ],
      "metadata": {
        "id": "Je5wxYM_cZRn"
      },
      "execution_count": null,
      "outputs": []
    },
    {
      "cell_type": "code",
      "source": [
        "pass_between = pass_between[pass_between['pass_count']> 1]\n",
        "pass_between"
      ],
      "metadata": {
        "id": "q1VATjIcdmti"
      },
      "execution_count": null,
      "outputs": []
    },
    {
      "cell_type": "code",
      "source": [
        "MAX_LINE_WIDTH = 13\n",
        "pass_between['width'] = (pass_between.pass_count / pass_between.pass_count.max() * MAX_LINE_WIDTH)\n",
        "\n",
        "MIN_TRANSPARENCY = 0.000001\n",
        "color=np.array(to_rgba('yellow'))\n",
        "color=np.tile(color, (len(pass_between),1))\n",
        "c_transparency= pass_between.pass_count / pass_between.pass_count.max()\n",
        "c_transparency= (c_transparency * (1 - MIN_TRANSPARENCY)) + MIN_TRANSPARENCY\n",
        "color[:, 3] = c_transparency\n",
        "\n",
        "MAX_MARKER_SIZE=1200\n",
        "average_locations['marker_size'] = (average_locations['count'] / average_locations['count'].max() * MAX_MARKER_SIZE)"
      ],
      "metadata": {
        "id": "_12M6mu_d1Nm"
      },
      "execution_count": null,
      "outputs": []
    },
    {
      "cell_type": "markdown",
      "source": [
        "# 2️⃣ Visualización de pases\n"
      ],
      "metadata": {
        "id": "Bx3UCE7Ht9_a"
      }
    },
    {
      "cell_type": "markdown",
      "source": [
        "# 2️⃣ Visualización de pases\n",
        "## 2.1 Crear campo de fútbol\n",
        "- Usar `mplsoccer` para dibujar el campo\n"
      ],
      "metadata": {
        "id": "IC8_mxbmt_z7"
      }
    },
    {
      "cell_type": "code",
      "source": [
        "fig, ax = plt.subplots(figsize=(16, 9))\n",
        "pitch = VerticalPitch()\n",
        "\n",
        "pitch.draw(ax=ax)\n",
        "\n",
        "pitch.scatter(50,70, ax=ax)\n",
        "pitch.scatter(40,80, ax=ax)"
      ],
      "metadata": {
        "id": "1CkPdROcegWd"
      },
      "execution_count": null,
      "outputs": []
    },
    {
      "cell_type": "markdown",
      "source": [
        "## 2.2 Dibujar pases con flechas\n",
        "- Dirección y longitud de los pases\n",
        "- Color, grosor y transparencia para claridad\n",
        "\n",
        "## 2.3 Ajustes estéticos\n",
        "- Leyendas, títulos y etiquetas\n",
        "- Personalización por jugador o tipo de pase\n"
      ],
      "metadata": {
        "id": "ObgHwoofuEZY"
      }
    },
    {
      "cell_type": "code",
      "source": [
        "pitch = VerticalPitch(pitch_type= 'statsbomb', pitch_color='#22312b', line_color='#c7d5cc', goal_type='box', goal_alpha=.8)\n",
        "fig, ax = pitch.draw(figsize=(16, 11), constrained_layout=False, tight_layout=True)\n",
        "fig.set_facecolor('#22312b')\n",
        "\n",
        "arrows = pitch.arrows(pass_between.x, pass_between.y, pass_between.x_end, pass_between.y_end, ax=ax, color=color, zorder=.99)\n",
        "nodes= pitch.scatter(average_locations.x, average_locations.y, ax=ax, color='white', ec='black', s=average_locations['marker_size'])\n",
        "\n",
        "for index, row in pass_between[['pasador', 'x', 'y']].drop_duplicates(subset='pasador').iterrows():\n",
        "  pitch.annotate(row.pasador, xy=(row.x-4.5, row.y), c='white', va='center',\n",
        "                  ha='center', size=14, weight='bold', ax=ax, zorder=1)"
      ],
      "metadata": {
        "id": "AZSt-rqifhXO"
      },
      "execution_count": null,
      "outputs": []
    },
    {
      "cell_type": "markdown",
      "source": [
        "# 3️⃣ Conclusiones\n",
        "A partir del análisis de los pases en el partido:\n",
        "\n",
        "- ⚡ Se observan patrones de pase predominantes en ciertas zonas del campo.\n",
        "- 🔄 Algunos jugadores realizan combinaciones cortas consecutivas.\n",
        "- 🎯 Los pases largos se concentran en momentos de transición rápida al ataque.\n",
        "- 🛡️ Se identifican zonas de pérdida de balón, posibles áreas de mejora defensiva.\n",
        "- 📊 El mapa de flechas permite visualizar dirección, longitud y frecuencia de los pases.\n"
      ],
      "metadata": {
        "id": "Vrg3Ugg2uQN0"
      }
    }
  ]
}