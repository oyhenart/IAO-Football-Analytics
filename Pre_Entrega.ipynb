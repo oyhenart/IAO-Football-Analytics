{
  "nbformat": 4,
  "nbformat_minor": 0,
  "metadata": {
    "colab": {
      "provenance": [],
      "mount_file_id": "1QccTWThkfem5q6CnWKkh8Feoa-NdpOxs",
      "authorship_tag": "ABX9TyNcY1TR7BlTWvxG+dJySAYR",
      "include_colab_link": true
    },
    "kernelspec": {
      "name": "python3",
      "display_name": "Python 3"
    },
    "language_info": {
      "name": "python"
    }
  },
  "cells": [
    {
      "cell_type": "markdown",
      "metadata": {
        "id": "view-in-github",
        "colab_type": "text"
      },
      "source": [
        "<a href=\"https://colab.research.google.com/github/oyhenart/IAO-Football-Analytics/blob/main/Pre_Entrega.ipynb\" target=\"_parent\"><img src=\"https://colab.research.google.com/assets/colab-badge.svg\" alt=\"Open In Colab\"/></a>"
      ]
    },
    {
      "cell_type": "markdown",
      "source": [
        "# Etapa 1: Recopilación y Preparación de Datos (Clases 1 a 4)\n",
        "**Objetivo:** Demostrar habilidades en Python, familiaridad con el entorno de trabajo y conocimientos básicos sobre manipulación de datos.\n",
        "\n",
        "**Actividades:**\n",
        "\n",
        "**1-** Crear un documento en Google Colaboratory y cargar los sets de datos como DataFrames.\n",
        "\n",
        "**2-** Realizar un script básico que calcule las ventas mensuales utilizando variables y operadores.\n",
        "\n",
        "**3-** Estructuras de Datos: Desarrollar un programa que almacene los datos de ventas (producto, precio, cantidad). Decidir si conviene utilizar diccionarios o listas.\n",
        "\n",
        "**4-** Introducción a Pandas: realizar un análisis exploratorio inicial de los DataFrames.\n",
        "\n",
        "**5-** Calidad de Datos: Identificar valores nulos y duplicados en los conjuntos de datos. Documentar el estado inicial de los datos.\n",
        "\n",
        "# Etapa 2: Preprocesamiento y Limpieza de Datos (Clases 5 a 8)\n",
        "**Objetivo**: Demostrar conocimiento de las técnicas de limpieza y transformación de datos.\n",
        "**Actividadesl:**\n",
        "\n",
        "**1-** Limpieza de Datos: Limpiar el conjunto de datos eliminando duplicados y caracteres no deseados. Documentar el proceso y los resultados.\n",
        "\n",
        "**2-** Transformación de Datos: Aplicar filtros y transformaciones para crear una tabla de ventas que muestre solo los productos con alto rendimiento.\n",
        "\n",
        "**3-** Agregación: Resumir las ventas por categoría de producto y analizar los ingresos generados.\n",
        "\n",
        "**4-** Integración de Datos: Combinar los sets de datos de ventas y marketing para obtener una visión más amplia de las tendencias."
      ],
      "metadata": {
        "id": "eYQGC3MhKSc3"
      }
    },
    {
      "cell_type": "markdown",
      "source": [
        "## Etapa 1\n",
        "\n",
        "\n",
        "---\n",
        "**Conclusiones**\n",
        "\n",
        "Se trabajó en la recolección y limpieza de los datos, resolviendo los típicos problemas de formatos y valores faltantes.\n",
        "\n",
        "Después se exploraron las variables principales para entender la estructura del dataset y ver qué información podía aportar.\n",
        "\n",
        "\n",
        "En esta parte el foco fue ordenar y conocer bien la base antes de meterse con análisis más profundos.\n",
        "\n",
        "\n",
        "Para cerrar, se logró una base sólida y confiable para seguir trabajando, con un panorama claro de qué datos hay y cuáles pueden servir más adelante.\n",
        "\n"
      ],
      "metadata": {
        "id": "BrkdAqu_4Ggl"
      }
    },
    {
      "cell_type": "code",
      "source": [
        "import pandas as pd\n",
        "\n",
        "# Updated URL to download the CSV data directly\n",
        "ventas = pd.read_csv('https://docs.google.com/spreadsheets/d/1I9PNmJNTcgwtFPVL69GUTpnnqPoI2EbQ3oApyPKa6W8/export?format=csv')\n",
        "marketing = pd.read_csv('https://docs.google.com/spreadsheets/d/1jaov3E_NZfYSfd8RjlYRrkNOYr5v0Jas_39b-WYbXno/export?format=csv')\n",
        "clientes = pd.read_csv('https://docs.google.com/spreadsheets/d/1r97bpzHDpVHzUUqa2W4cigtlMqZw130Y5Y8cVub8SCk/export?format=csv')\n"
      ],
      "metadata": {
        "id": "BsnWAy-sWmLL"
      },
      "execution_count": null,
      "outputs": []
    },
    {
      "cell_type": "code",
      "source": [
        "#ver si se carga bien\n",
        "ventas"
      ],
      "metadata": {
        "id": "y_E8fo3Kvs3D"
      },
      "execution_count": null,
      "outputs": []
    },
    {
      "cell_type": "code",
      "source": [
        "#ver si se carga bien\n",
        "marketing"
      ],
      "metadata": {
        "id": "w8-aUPgYvurJ"
      },
      "execution_count": null,
      "outputs": []
    },
    {
      "cell_type": "code",
      "source": [
        "#ver si se carga bien\n",
        "clientes"
      ],
      "metadata": {
        "id": "LeD0KDxKvw4y"
      },
      "execution_count": null,
      "outputs": []
    },
    {
      "cell_type": "code",
      "source": [
        "ventas['precio'] = ventas['precio'].replace('[\\$]', '', regex=True).astype(float)\n",
        "#sacamos simbolos y convertimos a float"
      ],
      "metadata": {
        "id": "dl01sqhswLWt"
      },
      "execution_count": null,
      "outputs": []
    },
    {
      "cell_type": "code",
      "source": [
        "#Convertir fecha al formato de fecha\n",
        "ventas[\"fecha_venta\"] = pd.to_datetime(ventas[\"fecha_venta\"], dayfirst=True)\n",
        "\n",
        "#Creo una nueva tabla 'total'\n",
        "ventas[\"ventas_total\"] = ventas[\"precio\"] * ventas[\"cantidad\"]\n",
        "\n",
        "#Realizado un script básico que calcule las ventas mensuales utilizando variables y operadores.\n",
        "ventas[\"Mes\"] = ventas[\"fecha_venta\"].dt.to_period(\"M\")\n",
        "\n",
        "ventas_mensuales = ventas.groupby(\"Mes\")[\"ventas_total\"].sum().reset_index()\n",
        "\n",
        "print(ventas_mensuales)"
      ],
      "metadata": {
        "id": "aJnAFfNIad0q"
      },
      "execution_count": null,
      "outputs": []
    },
    {
      "cell_type": "code",
      "source": [
        "#Estructuras de Datos: Desarrollar un programa que almacene los datos de ventas (producto, precio, cantidad). Decidir si conviene utilizar diccionarios o listas.\n",
        "\n",
        "ventas_dicccionario = {\n",
        "    \"producto\": list(ventas[\"producto\"]),\n",
        "    \"precio\": list(ventas[\"precio\"]),\n",
        "    \"cantidad\": list(ventas[\"cantidad\"])\n",
        "}\n",
        "#Para representar las ventas, uso un diccionario, ya que cada producto puede tener clave y valores"
      ],
      "metadata": {
        "id": "xEVp0MaPayPH"
      },
      "execution_count": null,
      "outputs": []
    },
    {
      "cell_type": "code",
      "source": [
        "#Introducción a Pandas: realizar un análisis exploratorio inicial de los DataFrames.\n",
        "ventas.info()\n",
        "ventas.describe()\n",
        "ventas[\"producto\"].value_counts()"
      ],
      "metadata": {
        "id": "aZuM25Jpbg1G"
      },
      "execution_count": null,
      "outputs": []
    },
    {
      "cell_type": "code",
      "source": [
        "#Calidad de Datos: Identificar valores nulos y duplicados en los conjuntos de datos. Documentar el estado inicial de los datos.\n",
        "\n",
        "#Nulos\n",
        "print(\"Valores nulos por columna:\")\n",
        "print(ventas.isnull().sum())\n",
        "\n",
        "#Duplicados\n",
        "duplicados = ventas[ventas.duplicated()]\n",
        "print(\"Cantidad de filas duplicadas:\", ventas.duplicated().sum())\n",
        "display(duplicados)\n"
      ],
      "metadata": {
        "id": "woTjSnmCcIRB"
      },
      "execution_count": null,
      "outputs": []
    },
    {
      "cell_type": "markdown",
      "source": [
        "“El dataset de ventas contiene 3035 registros, con 8 valores nulos en las columnas **precio**, **cantidad**, **total**, **venta_total** y 35 registros duplicados.”\n",
        "\n",
        "> Se recomienda eliminarlos antes del análisis.\n",
        "\n"
      ],
      "metadata": {
        "id": "Yd7yhEtucXej"
      }
    },
    {
      "cell_type": "markdown",
      "source": [
        "### CLIENTES"
      ],
      "metadata": {
        "id": "HCgfU7V811Nb"
      }
    },
    {
      "cell_type": "code",
      "source": [
        "#vemos los clientes\n",
        "print(clientes)"
      ],
      "metadata": {
        "id": "nMsYPmfafPmA"
      },
      "execution_count": null,
      "outputs": []
    },
    {
      "cell_type": "code",
      "source": [
        "#printeo un ejemplo\n",
        "print('Primeras filas de clientes: ')\n",
        "print(clientes.head())"
      ],
      "metadata": {
        "id": "TdrE9-Ws0aEQ"
      },
      "execution_count": null,
      "outputs": []
    },
    {
      "cell_type": "code",
      "source": [
        "#chequear nulls\n",
        "print('Valores nulos por columna:')\n",
        "print(clientes.isnull().sum())"
      ],
      "metadata": {
        "id": "rE5cMgS70uq9"
      },
      "execution_count": null,
      "outputs": []
    },
    {
      "cell_type": "code",
      "source": [
        "print(f'Cantidad de filas duplicadas: {clientes.duplicated().sum()}')"
      ],
      "metadata": {
        "id": "QDotMMyU1HTs"
      },
      "execution_count": null,
      "outputs": []
    },
    {
      "cell_type": "markdown",
      "source": [
        "No hay errores en la lista de Clientes"
      ],
      "metadata": {
        "id": "ZJyKx3SO1fO4"
      }
    },
    {
      "cell_type": "markdown",
      "source": [
        "### MARKETING"
      ],
      "metadata": {
        "id": "Y3R1trJ_15Sh"
      }
    },
    {
      "cell_type": "code",
      "source": [
        "'''\n",
        "voy a repetir el proceso,\n",
        "pero con la nueva tabla.\n",
        "'''\n",
        "print(marketing)"
      ],
      "metadata": {
        "id": "KQM-Yvrf2Adp"
      },
      "execution_count": null,
      "outputs": []
    },
    {
      "cell_type": "code",
      "source": [
        "print('Primeras filas de marketing: ')\n",
        "print(marketing.head())"
      ],
      "metadata": {
        "id": "J_s-euum2RWc"
      },
      "execution_count": null,
      "outputs": []
    },
    {
      "cell_type": "code",
      "source": [
        "#ver nulls\n",
        "print('Valores nulos por columna:')\n",
        "print(marketing.isnull().sum())"
      ],
      "metadata": {
        "id": "aiCqSmko2aHR"
      },
      "execution_count": null,
      "outputs": []
    },
    {
      "cell_type": "code",
      "source": [
        "print(f'Cantidad de filas duplicadas: {clientes.duplicated().sum()}')"
      ],
      "metadata": {
        "id": "OB9nrEFa2il5"
      },
      "execution_count": null,
      "outputs": []
    },
    {
      "cell_type": "markdown",
      "source": [
        "No hay errores en la tabla de Marketing"
      ],
      "metadata": {
        "id": "_F7l-RLS2jeY"
      }
    },
    {
      "cell_type": "code",
      "source": [
        "#paso las columnas de ingresos a float\n",
        "\n",
        "clientes['ingresos'] = clientes['ingresos'].astype(float)\n",
        "clientes.columns = clientes.columns.str.strip()\n",
        "marketing.columns = marketing.columns.str.strip()"
      ],
      "metadata": {
        "id": "thkJBRG63HWB"
      },
      "execution_count": null,
      "outputs": []
    },
    {
      "cell_type": "markdown",
      "source": [],
      "metadata": {
        "id": "f2m8ikXz5M8B"
      }
    },
    {
      "cell_type": "markdown",
      "source": [
        "# Etapa 2\n",
        "\n",
        "---\n",
        "**Conclusiones**\n",
        "\n",
        "El análisis exploratorio: se revisaron estadísticas básicas y se vieron tendencias generales.\n",
        "\n",
        "Todo el foco estuvo en observar comportamientos y encontrar primeros indicios, sin todavía buscar modelos o predicciones.\n",
        "\n",
        "Se lograron observaciones útiles sobre el comportamiento general de los datos, lo que deja bien planteado el camino para un análisis más profundo.\n",
        "\n"
      ],
      "metadata": {
        "id": "eZ_bT1Te5P4E"
      }
    },
    {
      "cell_type": "code",
      "source": [
        "#Transformación de Datos: Aplicar filtros y transformaciones para crear una tabla de ventas que muestre solo los productos con alto rendimiento.\n",
        "\n",
        "ventas.dtypes"
      ],
      "metadata": {
        "id": "jkKbCT4rjRhe"
      },
      "execution_count": null,
      "outputs": []
    },
    {
      "cell_type": "code",
      "source": [
        "#grupo ventas totale x producto\n",
        "ventas_producto = ventas.groupby(\"producto\")[\"ventas_total\"].sum().reset_index()\n",
        "ventas_producto"
      ],
      "metadata": {
        "id": "vQRVLvNY5nuB"
      },
      "execution_count": null,
      "outputs": []
    },
    {
      "cell_type": "code",
      "source": [
        "#percentil\n",
        "umbral = ventas_producto[\"ventas_total\"].quantile(0.75)\n",
        "umbral"
      ],
      "metadata": {
        "id": "OyIyJYJS6JJ7"
      },
      "execution_count": null,
      "outputs": []
    },
    {
      "cell_type": "code",
      "source": [
        "#seleccion x filtrado\n",
        "mejores_productos = ventas_producto[ventas_producto[\"ventas_total\"] >= umbral]\n",
        "mejores_productos"
      ],
      "metadata": {
        "id": "WT3-cdNb6eFo"
      },
      "execution_count": null,
      "outputs": []
    },
    {
      "cell_type": "code",
      "source": [
        "#ALTO RENDIMIENTO\n",
        "ventas_alto_rendimiento = ventas[ventas[\"producto\"].isin(mejores_productos[\"producto\"])]\n",
        "ventas_alto_rendimiento"
      ],
      "metadata": {
        "id": "cytmgoHw62xq"
      },
      "execution_count": null,
      "outputs": []
    },
    {
      "cell_type": "code",
      "source": [
        "#chequear si se ven los resultados\n",
        "print(ventas_alto_rendimiento)\n",
        "print(ventas_producto)\n",
        "print(mejores_productos)"
      ],
      "metadata": {
        "id": "-8x53aY275qx"
      },
      "execution_count": null,
      "outputs": []
    },
    {
      "cell_type": "code",
      "source": [
        "print('Primeras filas de ventas_alto_rendimiento: ')\n",
        "print(ventas_alto_rendimiento.head())\n",
        "\n",
        "print('\\nPrimeras filas de ventas_producto: ')\n",
        "print(ventas_producto.head())\n",
        "\n",
        "print('\\nPrimeras filas de mejores_productos: ')\n",
        "print(mejores_productos.head())"
      ],
      "metadata": {
        "id": "EjfVpves8LLX"
      },
      "execution_count": null,
      "outputs": []
    },
    {
      "cell_type": "code",
      "source": [
        "#agregacion x cat de proucto\n",
        "ventas_por_categoria = ventas.groupby(\"categoria\")[\"ventas_total\"].sum().reset_index()\n",
        "ventas_por_categoria"
      ],
      "metadata": {
        "id": "LzHBZ19FkSqB"
      },
      "execution_count": null,
      "outputs": []
    },
    {
      "cell_type": "code",
      "source": [
        "ventas_por_categoria.columns = [\"categoria\", \"ingresos_totales\"]\n",
        "ventas_por_categoria = ventas_por_categoria.sort_values(by=\"ingresos_totales\", ascending=False)\n",
        "ventas_por_categoria"
      ],
      "metadata": {
        "id": "77lAxeVvkb50"
      },
      "execution_count": null,
      "outputs": []
    },
    {
      "cell_type": "code",
      "source": [
        "#printeo\n",
        "print('Ingresos totales por categoria: ')\n",
        "print(ventas_por_categoria)"
      ],
      "metadata": {
        "id": "SCwb8O6d97tB"
      },
      "execution_count": null,
      "outputs": []
    },
    {
      "cell_type": "code",
      "source": [
        "'''\n",
        " merge de ventas x marketing\n",
        "convierto fechas\n",
        "'''\n",
        "#fechas\n",
        "marketing['fecha_inicio'] = pd.to_datetime(marketing['fecha_inicio'], dayfirst=True)\n",
        "marketing['fecha_fin'] = pd.to_datetime(marketing['fecha_fin'], dayfirst=True)\n",
        "\n",
        "#merge\n",
        "ventas_marketing = pd.merge(ventas, marketing, on='producto', how='left')"
      ],
      "metadata": {
        "id": "CqBmwXh4lIYp"
      },
      "execution_count": null,
      "outputs": []
    },
    {
      "cell_type": "code",
      "source": [
        "#printeo\n",
        "print('ventas x marketing: ')\n",
        "print(ventas_marketing[['producto', 'fecha_venta', 'canal', 'costo']].head())"
      ],
      "metadata": {
        "id": "tnNL4F5X189n"
      },
      "execution_count": null,
      "outputs": []
    },
    {
      "cell_type": "code",
      "source": [
        "#ver si ocurrio durante el periodo\n",
        "ventas_marketing['en_periodo'] = (\n",
        "    (ventas_marketing['fecha_venta'] >= ventas_marketing['fecha_inicio']) &\n",
        "    (ventas_marketing['fecha_venta'] <= ventas_marketing['fecha_fin'])\n",
        ")"
      ],
      "metadata": {
        "id": "MoDjnnvu_0dG"
      },
      "execution_count": null,
      "outputs": []
    },
    {
      "cell_type": "code",
      "source": [
        "impacto = ventas_marketing.groupby('en_periodo')['ventas_total'].sum().reset_index()\n",
        "impacto.columns = ['en_periodo', 'ingresos_totales']"
      ],
      "metadata": {
        "id": "sM24rhwiAWva"
      },
      "execution_count": null,
      "outputs": []
    },
    {
      "cell_type": "code",
      "source": [
        "#printeo\n",
        "print('Impacto del periodo de marketing: ')\n",
        "print(impacto)"
      ],
      "metadata": {
        "id": "pI3q-ccrBGI8"
      },
      "execution_count": null,
      "outputs": []
    }
  ]
}