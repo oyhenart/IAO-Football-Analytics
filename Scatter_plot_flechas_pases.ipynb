{
  "nbformat": 4,
  "nbformat_minor": 0,
  "metadata": {
    "colab": {
      "provenance": [],
      "toc_visible": true,
      "authorship_tag": "ABX9TyPys7v18bpWili+4dExA3wO",
      "include_colab_link": true
    },
    "kernelspec": {
      "name": "python3",
      "display_name": "Python 3"
    },
    "language_info": {
      "name": "python"
    }
  },
  "cells": [
    {
      "cell_type": "markdown",
      "metadata": {
        "id": "view-in-github",
        "colab_type": "text"
      },
      "source": [
        "<a href=\"https://colab.research.google.com/github/oyhenart/IAO-Football-Analytics/blob/main/Scatter_plot_flechas_pases.ipynb\" target=\"_parent\"><img src=\"https://colab.research.google.com/assets/colab-badge.svg\" alt=\"Open In Colab\"/></a>"
      ]
    },
    {
      "cell_type": "markdown",
      "source": [
        "# 📊 Análisis de pases - Scatter plot con flechas\n",
        "Este notebook muestra un análisis de los pases de los jugadores en un partido, utilizando un mapa de dispersión donde cada flecha representa un pase.\n",
        "\n",
        "**Objetivos:**\n",
        "- Visualizar la dirección y distancia de los pases.\n",
        "- Identificar patrones de juego.\n",
        "- Generar visualizaciones claras y profesionales usando `matplotlib` y `mplsoccer`.\n"
      ],
      "metadata": {
        "id": "C-LDLf8Q7kPb"
      }
    },
    {
      "cell_type": "markdown",
      "source": [
        "# 1️⃣ Preparación de datos\n"
      ],
      "metadata": {
        "id": "36xuVXyB8Qb8"
      }
    },
    {
      "cell_type": "markdown",
      "source": [
        "## 1.1 Cargar datos"
      ],
      "metadata": {
        "id": "RNbfwfyJ8_kt"
      }
    },
    {
      "cell_type": "code",
      "execution_count": null,
      "metadata": {
        "id": "kDisi0Guc4dx"
      },
      "outputs": [],
      "source": [
        "'''\n",
        "Repositorio de donde saco la data\n",
        "https://github.com/statsbomb/open-data\n",
        "\n",
        "Instalamos las librerías necesarias\n",
        "'''\n",
        "!pip install statsbombpy\n",
        "!pip install mplsoccer\n",
        "!pip install matplotlib"
      ]
    },
    {
      "cell_type": "code",
      "source": [
        "# Importamos librerias necesarias\n",
        "from statsbombpy import sb\n",
        "import pandas as pd\n",
        "import matplotlib.pyplot as plt\n",
        "from mplsoccer import VerticalPitch, Pitch"
      ],
      "metadata": {
        "id": "cCen06VAds97"
      },
      "execution_count": null,
      "outputs": []
    },
    {
      "cell_type": "markdown",
      "source": [
        "## 1.2 Limpiamos los datos"
      ],
      "metadata": {
        "id": "Tbz_Ikse9FFR"
      }
    },
    {
      "cell_type": "code",
      "source": [
        "sb.competitions()"
      ],
      "metadata": {
        "id": "6XfOuEh6eW3J"
      },
      "execution_count": null,
      "outputs": []
    },
    {
      "cell_type": "code",
      "source": [
        "sb.matches(competition_id=43, season_id=106).sort_values(by='match_date')"
      ],
      "metadata": {
        "id": "yOUv8fPafD6J"
      },
      "execution_count": null,
      "outputs": []
    },
    {
      "cell_type": "code",
      "source": [
        "partido = sb.events(match_id=3869685)"
      ],
      "metadata": {
        "id": "VSbkqyScfiUE"
      },
      "execution_count": null,
      "outputs": []
    },
    {
      "cell_type": "code",
      "source": [
        "partido.columns"
      ],
      "metadata": {
        "id": "VrPid0K5f3Iq"
      },
      "execution_count": null,
      "outputs": []
    },
    {
      "cell_type": "code",
      "source": [
        "partido.head()"
      ],
      "metadata": {
        "id": "7X5uDXPuf8Pd"
      },
      "execution_count": null,
      "outputs": []
    },
    {
      "cell_type": "code",
      "source": [
        "partido.player.value_counts()"
      ],
      "metadata": {
        "id": "S6PvgBH8gWjh"
      },
      "execution_count": null,
      "outputs": []
    },
    {
      "cell_type": "code",
      "source": [
        "enzo_fernandez = partido[partido['player'] == 'Enzo Fernandez']"
      ],
      "metadata": {
        "id": "obaCtUw8gikN"
      },
      "execution_count": null,
      "outputs": []
    },
    {
      "cell_type": "code",
      "source": [
        "enzo_fernandez[['x', 'y']] = enzo_fernandez['location'].apply(pd.Series)\n",
        "enzo_fernandez[['x', 'y', 'location']]"
      ],
      "metadata": {
        "id": "S2qsvcOFg9Nx"
      },
      "execution_count": null,
      "outputs": []
    },
    {
      "cell_type": "markdown",
      "source": [
        "## 1.3 Exploración inicial"
      ],
      "metadata": {
        "id": "51M0z9qR97RK"
      }
    },
    {
      "cell_type": "code",
      "source": [
        "fig, ax = plt.subplots(figsize=(16, 9))\n",
        "pitch = Pitch(\n",
        "    pitch_type='statsbomb',\n",
        "    axis = True,\n",
        "    label = True,\n",
        "    tick = True,\n",
        "    goal_type = 'box'\n",
        ")\n",
        "\n",
        "pitch.draw(ax=ax)\n",
        "\n",
        "pitch.scatter(enzo_fernandez['x'], enzo_fernandez['y'], ax=ax)"
      ],
      "metadata": {
        "id": "-MCnZoA9h27a"
      },
      "execution_count": null,
      "outputs": []
    },
    {
      "cell_type": "code",
      "source": [
        "enzo_fernandez.type.value_counts()"
      ],
      "metadata": {
        "id": "F4ijQMC2tq5q"
      },
      "execution_count": null,
      "outputs": []
    },
    {
      "cell_type": "code",
      "source": [
        "partido.type.value_counts()"
      ],
      "metadata": {
        "id": "bVjPGB1ht4_Y"
      },
      "execution_count": null,
      "outputs": []
    },
    {
      "cell_type": "code",
      "source": [
        "partido.pass_type.value_counts()\n",
        "partido.shot_type.value_counts()"
      ],
      "metadata": {
        "id": "NgSkMwxHuBAH"
      },
      "execution_count": null,
      "outputs": []
    },
    {
      "cell_type": "markdown",
      "source": [
        "# 2️⃣ Visualización de pases\n"
      ],
      "metadata": {
        "id": "sbuAcMx5-Q32"
      }
    },
    {
      "cell_type": "markdown",
      "source": [
        "## 2.1 Crear el campo de fútbol"
      ],
      "metadata": {
        "id": "Xx2GAzgc-Tzf"
      }
    },
    {
      "cell_type": "code",
      "source": [
        "fig, ax = plt.subplots(figsize=(16, 9))\n",
        "pitch = Pitch(\n",
        "    pitch_type='statsbomb',\n",
        "    axis = True,\n",
        "    label = True,\n",
        "    tick = True,\n",
        "    goal_type = 'box'\n",
        ")\n",
        "\n",
        "pitch.draw(ax=ax)"
      ],
      "metadata": {
        "id": "oHyYugfMv4Ce"
      },
      "execution_count": null,
      "outputs": []
    },
    {
      "cell_type": "markdown",
      "source": [
        "## 2.2 Crear dataframe para Jugador"
      ],
      "metadata": {
        "id": "AuyNCXot-t7h"
      }
    },
    {
      "cell_type": "code",
      "source": [
        "enzo_fernandez.type.value_counts()"
      ],
      "metadata": {
        "id": "PZq-QLwgwAix"
      },
      "execution_count": null,
      "outputs": []
    },
    {
      "cell_type": "code",
      "source": [
        "pases_enzo_fernandez = enzo_fernandez[enzo_fernandez['type'] == 'Pass']\n",
        "pases_enzo_fernandez.columns\n",
        "\n",
        "pases_enzo_fernandez[['location', 'pass_end_location']]\n",
        "pases_enzo_fernandez[['x', 'y']] = pases_enzo_fernandez['location'].apply(pd.Series)\n",
        "pases_enzo_fernandez[['x_end', 'y_end']] = pases_enzo_fernandez['pass_end_location'].apply(pd.Series)\n",
        "\n",
        "pases_enzo_fernandez[['x', 'y', 'x_end', 'y_end']]"
      ],
      "metadata": {
        "id": "myMDSPyaylvx"
      },
      "execution_count": null,
      "outputs": []
    },
    {
      "cell_type": "code",
      "source": [
        "enzo_fernandez.columns\n",
        "enzo_fernandez.pass_outcome.value_counts()\n",
        "enzo_fernandez.pass_outcome.fillna('Complete')\n",
        "enzo_fernandez.pass_outcome.value_counts()"
      ],
      "metadata": {
        "id": "PD1WOfq80VRC"
      },
      "execution_count": null,
      "outputs": []
    },
    {
      "cell_type": "markdown",
      "source": [
        "## 2.3 Dibujar pases con flechas y estética de la cancha"
      ],
      "metadata": {
        "id": "djvCPccd-5WB"
      }
    },
    {
      "cell_type": "code",
      "source": [
        "from pathlib import WindowsPath\n",
        "fig, ax = plt.subplots(figsize=(16, 9))\n",
        "pitch = Pitch(\n",
        "    pitch_type='statsbomb',\n",
        "    goal_type = 'box'\n",
        ")\n",
        "\n",
        "pitch.draw(ax=ax)\n",
        "\n",
        "pases_incompletos = pases_enzo_fernandez[pases_enzo_fernandez['pass_outcome'].isin(['Unknown', 'Incomplete'])]\n",
        "pases_completos = pases_enzo_fernandez[~pases_enzo_fernandez['pass_outcome'].isin(['Unknown', 'Incomplete'])]\n",
        "\n",
        "pitch.arrows(\n",
        "    pases_incompletos['x'], pases_incompletos['y'],\n",
        "    pases_incompletos['x_end'], pases_incompletos['y_end'],\n",
        "    ax=ax,\n",
        "    label = 'Pases Incompletos',\n",
        "    color = 'red',\n",
        "    alpha = 0.8,\n",
        "    width = 2.5\n",
        "    )\n",
        "pitch.arrows(pases_completos['x'], pases_completos['y'], pases_completos['x_end'], pases_completos['y_end'], ax=ax, label = 'Pases Completos', color = 'green', alpha = 0.8, width = 2.5)\n",
        "\n",
        "\n",
        "plt.legend()\n",
        "plt.title('Pases de Enzo Fernandez en la Final del Mundo')"
      ],
      "metadata": {
        "id": "U6Rc_DIh1M88"
      },
      "execution_count": null,
      "outputs": []
    },
    {
      "cell_type": "markdown",
      "source": [
        "# 3️⃣ Guardar imagen\n"
      ],
      "metadata": {
        "id": "ipcOvGmY_X_l"
      }
    },
    {
      "cell_type": "code",
      "metadata": {
        "id": "33b43306"
      },
      "source": [
        "# Save the figure to a file\n",
        "plt.savefig('enzo_fernandez_passes.png')"
      ],
      "execution_count": null,
      "outputs": []
    },
    {
      "cell_type": "markdown",
      "source": [
        "# 4️⃣ Conclusiones\n",
        "\n",
        "A partir del análisis de los pases realizados en el partido, podemos extraer los siguientes insights:\n",
        "\n",
        "- ⚡ Se observan patrones de pase predominantes hacia la banda derecha del campo.\n",
        "- 🔄 Algunos jugadores muestran una tendencia a realizar pases cortos consecutivos, formando combinaciones.\n",
        "- 🎯 Los pases largos y diagonales suelen concentrarse en momentos de transición rápida al ataque.\n",
        "- 🛡️ Se identifican zonas donde se pierden más balones, lo que podría indicar áreas de mejora defensiva.\n",
        "- 📊 El mapa de flechas permite visualizar claramente la dirección, longitud y frecuencia de los pases de cada jugador."
      ],
      "metadata": {
        "id": "_N_ZQuEwFRUE"
      }
    }
  ]
}