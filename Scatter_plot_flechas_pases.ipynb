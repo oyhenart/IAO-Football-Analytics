{
  "nbformat": 4,
  "nbformat_minor": 0,
  "metadata": {
    "colab": {
      "provenance": [],
      "authorship_tag": "ABX9TyO0Asz7gkZ7rEPtneTLn3Ax",
      "include_colab_link": true
    },
    "kernelspec": {
      "name": "python3",
      "display_name": "Python 3"
    },
    "language_info": {
      "name": "python"
    }
  },
  "cells": [
    {
      "cell_type": "markdown",
      "metadata": {
        "id": "view-in-github",
        "colab_type": "text"
      },
      "source": [
        "<a href=\"https://colab.research.google.com/github/oyhenart/IAO-Football-Analytics/blob/main/Scatter_plot_flechas_pases.ipynb\" target=\"_parent\"><img src=\"https://colab.research.google.com/assets/colab-badge.svg\" alt=\"Open In Colab\"/></a>"
      ]
    },
    {
      "cell_type": "code",
      "execution_count": null,
      "metadata": {
        "id": "kDisi0Guc4dx"
      },
      "outputs": [],
      "source": [
        "# https://github.com/statsbomb/open-data\n",
        "!pip install statsbombpy"
      ]
    },
    {
      "cell_type": "code",
      "source": [
        "!pip install mplsoccer\n",
        "!pip install matplotlib"
      ],
      "metadata": {
        "id": "F8vhhCyLeCxJ"
      },
      "execution_count": null,
      "outputs": []
    },
    {
      "cell_type": "code",
      "source": [
        "from statsbombpy import sb\n",
        "import pandas as pd\n",
        "import matplotlib.pyplot as plt\n",
        "from mplsoccer import VerticalPitch, Pitch"
      ],
      "metadata": {
        "id": "cCen06VAds97"
      },
      "execution_count": null,
      "outputs": []
    },
    {
      "cell_type": "code",
      "source": [
        "sb.competitions()"
      ],
      "metadata": {
        "id": "6XfOuEh6eW3J"
      },
      "execution_count": null,
      "outputs": []
    },
    {
      "cell_type": "code",
      "source": [
        "sb.matches(competition_id=43, season_id=106).sort_values(by='match_date')"
      ],
      "metadata": {
        "id": "yOUv8fPafD6J"
      },
      "execution_count": null,
      "outputs": []
    },
    {
      "cell_type": "code",
      "source": [
        "partido = sb.events(match_id=3869685)"
      ],
      "metadata": {
        "id": "VSbkqyScfiUE"
      },
      "execution_count": null,
      "outputs": []
    },
    {
      "cell_type": "code",
      "source": [
        "partido.columns"
      ],
      "metadata": {
        "id": "VrPid0K5f3Iq"
      },
      "execution_count": null,
      "outputs": []
    },
    {
      "cell_type": "code",
      "source": [
        "partido.head()"
      ],
      "metadata": {
        "id": "7X5uDXPuf8Pd"
      },
      "execution_count": null,
      "outputs": []
    },
    {
      "cell_type": "code",
      "source": [
        "partido.player.value_counts()"
      ],
      "metadata": {
        "id": "S6PvgBH8gWjh"
      },
      "execution_count": null,
      "outputs": []
    },
    {
      "cell_type": "code",
      "source": [
        "enzo_fernandez = partido[partido['player'] == 'Enzo Fernandez']"
      ],
      "metadata": {
        "id": "obaCtUw8gikN"
      },
      "execution_count": null,
      "outputs": []
    },
    {
      "cell_type": "code",
      "source": [
        "enzo_fernandez[['x', 'y']] = enzo_fernandez['location'].apply(pd.Series)\n",
        "enzo_fernandez[['x', 'y', 'location']]"
      ],
      "metadata": {
        "id": "S2qsvcOFg9Nx"
      },
      "execution_count": null,
      "outputs": []
    },
    {
      "cell_type": "code",
      "source": [
        "fig, ax = plt.subplots(figsize=(16, 9))\n",
        "pitch = Pitch(\n",
        "    pitch_type='statsbomb',\n",
        "    axis = True,\n",
        "    label = True,\n",
        "    tick = True,\n",
        "    goal_type = 'box'\n",
        ")\n",
        "\n",
        "pitch.draw(ax=ax)\n",
        "\n",
        "pitch.scatter(enzo_fernandez['x'], enzo_fernandez['y'], ax=ax)"
      ],
      "metadata": {
        "id": "-MCnZoA9h27a"
      },
      "execution_count": null,
      "outputs": []
    },
    {
      "cell_type": "code",
      "source": [
        "enzo_fernandez.type.value_counts()"
      ],
      "metadata": {
        "id": "F4ijQMC2tq5q"
      },
      "execution_count": null,
      "outputs": []
    },
    {
      "cell_type": "code",
      "source": [
        "partido.type.value_counts()"
      ],
      "metadata": {
        "id": "bVjPGB1ht4_Y"
      },
      "execution_count": null,
      "outputs": []
    },
    {
      "cell_type": "code",
      "source": [
        "partido.pass_type.value_counts()\n",
        "partido.shot_type.value_counts()"
      ],
      "metadata": {
        "id": "NgSkMwxHuBAH"
      },
      "execution_count": null,
      "outputs": []
    },
    {
      "cell_type": "code",
      "source": [
        "fig, ax = plt.subplots(figsize=(16, 9))\n",
        "pitch = Pitch(\n",
        "    pitch_type='statsbomb',\n",
        "    axis = True,\n",
        "    label = True,\n",
        "    tick = True,\n",
        "    goal_type = 'box'\n",
        ")\n",
        "\n",
        "pitch.draw(ax=ax)"
      ],
      "metadata": {
        "id": "oHyYugfMv4Ce"
      },
      "execution_count": null,
      "outputs": []
    },
    {
      "cell_type": "code",
      "source": [
        "enzo_fernandez.type.value_counts()"
      ],
      "metadata": {
        "id": "PZq-QLwgwAix"
      },
      "execution_count": null,
      "outputs": []
    },
    {
      "cell_type": "code",
      "source": [
        "pases_enzo_fernandez = enzo_fernandez[enzo_fernandez['type'] == 'Pass']\n",
        "pases_enzo_fernandez.columns\n",
        "\n",
        "pases_enzo_fernandez[['location', 'pass_end_location']]\n",
        "pases_enzo_fernandez[['x', 'y']] = pases_enzo_fernandez['location'].apply(pd.Series)\n",
        "pases_enzo_fernandez[['x_end', 'y_end']] = pases_enzo_fernandez['pass_end_location'].apply(pd.Series)\n",
        "\n",
        "pases_enzo_fernandez[['x', 'y', 'x_end', 'y_end']]"
      ],
      "metadata": {
        "id": "myMDSPyaylvx"
      },
      "execution_count": null,
      "outputs": []
    },
    {
      "cell_type": "code",
      "source": [
        "enzo_fernandez.columns\n",
        "enzo_fernandez.pass_outcome.value_counts()\n",
        "enzo_fernandez.pass_outcome.fillna('Complete')\n",
        "enzo_fernandez.pass_outcome.value_counts()"
      ],
      "metadata": {
        "id": "PD1WOfq80VRC"
      },
      "execution_count": null,
      "outputs": []
    },
    {
      "cell_type": "code",
      "source": [
        "from pathlib import WindowsPath\n",
        "fig, ax = plt.subplots(figsize=(16, 9))\n",
        "pitch = Pitch(\n",
        "    pitch_type='statsbomb',\n",
        "    goal_type = 'box'\n",
        ")\n",
        "\n",
        "pitch.draw(ax=ax)\n",
        "\n",
        "pases_incompletos = pases_enzo_fernandez[pases_enzo_fernandez['pass_outcome'].isin(['Unknown', 'Incomplete'])]\n",
        "pases_completos = pases_enzo_fernandez[~pases_enzo_fernandez['pass_outcome'].isin(['Unknown', 'Incomplete'])]\n",
        "\n",
        "pitch.arrows(\n",
        "    pases_incompletos['x'], pases_incompletos['y'],\n",
        "    pases_incompletos['x_end'], pases_incompletos['y_end'],\n",
        "    ax=ax,\n",
        "    label = 'Pases Incompletos',\n",
        "    color = 'red',\n",
        "    alpha = 0.8,\n",
        "    width = 2.5\n",
        "    )\n",
        "pitch.arrows(pases_completos['x'], pases_completos['y'], pases_completos['x_end'], pases_completos['y_end'], ax=ax, label = 'Pases Completos', color = 'green', alpha = 0.8, width = 2.5)\n",
        "\n",
        "\n",
        "plt.legend()\n",
        "plt.title('Pases de Enzo Fernandez en la Final del Mundo')"
      ],
      "metadata": {
        "id": "U6Rc_DIh1M88"
      },
      "execution_count": null,
      "outputs": []
    },
    {
      "cell_type": "code",
      "metadata": {
        "id": "33b43306"
      },
      "source": [
        "# Save the figure to a file\n",
        "plt.savefig('enzo_fernandez_passes.png')"
      ],
      "execution_count": null,
      "outputs": []
    }
  ]
}